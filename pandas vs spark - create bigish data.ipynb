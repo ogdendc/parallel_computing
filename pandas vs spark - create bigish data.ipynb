{
 "cells": [
  {
   "cell_type": "markdown",
   "metadata": {
    "application/vnd.databricks.v1+cell": {
     "cellMetadata": {
      "byteLimit": 2048000,
      "rowLimit": 10000
     },
     "inputWidgets": {},
     "nuid": "3758af72-bd4e-4e97-ab42-886476e1c954",
     "showTitle": false,
     "tableResultSettingsMap": {},
     "title": ""
    }
   },
   "source": [
    "## creating large csv file, to use as comparison of pandas vs spark dataframes\n",
    "> ### running the code below with a 128Gb driver"
   ]
  },
  {
   "cell_type": "code",
   "execution_count": 0,
   "metadata": {
    "application/vnd.databricks.v1+cell": {
     "cellMetadata": {
      "byteLimit": 2048000,
      "rowLimit": 10000
     },
     "inputWidgets": {},
     "nuid": "784d19f4-b041-4161-873c-5421b4d8a4d3",
     "showTitle": true,
     "tableResultSettingsMap": {},
     "title": "reading in some sample data"
    }
   },
   "outputs": [],
   "source": [
    "spark_df = spark.read.table(\"samples.tpch.orders\")\n",
    "display(spark_df)"
   ]
  },
  {
   "cell_type": "code",
   "execution_count": 0,
   "metadata": {
    "application/vnd.databricks.v1+cell": {
     "cellMetadata": {
      "byteLimit": 2048000,
      "rowLimit": 10000
     },
     "inputWidgets": {},
     "nuid": "c5b54c52-63d9-463c-916d-79e4e1c50cb6",
     "showTitle": true,
     "tableResultSettingsMap": {},
     "title": "duplicating the data N times just to inflate size of output file"
    }
   },
   "outputs": [],
   "source": [
    "from pyspark.sql.functions import explode, array, lit\n",
    "\n",
    "N=25\n",
    "dup_df = spark_df.withColumn(\"new_col\", explode(array(*[lit(i) for i in range(1, N+1)]))).drop(\"new_col\")\n",
    "display(dup_df)"
   ]
  },
  {
   "cell_type": "code",
   "execution_count": 0,
   "metadata": {
    "application/vnd.databricks.v1+cell": {
     "cellMetadata": {
      "byteLimit": 2048000,
      "rowLimit": 10000
     },
     "inputWidgets": {},
     "nuid": "e1a5cb27-9fde-41cf-bee3-23c8a64cf18f",
     "showTitle": true,
     "tableResultSettingsMap": {},
     "title": "forcing one file so we get one csv file written to the Volume"
    }
   },
   "outputs": [],
   "source": [
    "dup_df=dup_df.repartition(1)"
   ]
  },
  {
   "cell_type": "code",
   "execution_count": 0,
   "metadata": {
    "application/vnd.databricks.v1+cell": {
     "cellMetadata": {
      "byteLimit": 2048000,
      "rowLimit": 10000
     },
     "inputWidgets": {},
     "nuid": "76815762-b196-4007-a50b-383e4d83291f",
     "showTitle": false,
     "tableResultSettingsMap": {},
     "title": ""
    }
   },
   "outputs": [],
   "source": [
    "dbutils.fs.rm(f\"/Volumes/main/ogden_misc/tpch_vol\", recurse=True)\n",
    "\n",
    "dup_df.write.csv(\"/Volumes/main/ogden_misc/tpch_vol/tpch_orders.csv\", header=True)"
   ]
  },
  {
   "cell_type": "markdown",
   "metadata": {
    "application/vnd.databricks.v1+cell": {
     "cellMetadata": {
      "byteLimit": 2048000,
      "rowLimit": 10000
     },
     "inputWidgets": {},
     "nuid": "7c903ced-ce60-41b8-8be7-f0dd76490914",
     "showTitle": false,
     "tableResultSettingsMap": {},
     "title": ""
    }
   },
   "source": []
  }
 ],
 "metadata": {
  "application/vnd.databricks.v1+notebook": {
   "computePreferences": null,
   "dashboards": [],
   "environmentMetadata": {
    "base_environment": "",
    "environment_version": "2"
   },
   "language": "python",
   "notebookMetadata": {
    "pythonIndentUnit": 2
   },
   "notebookName": "pandas vs spark - create bigish data",
   "widgets": {}
  },
  "language_info": {
   "name": "python"
  }
 },
 "nbformat": 4,
 "nbformat_minor": 0
}
