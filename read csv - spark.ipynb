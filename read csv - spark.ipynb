{
 "cells": [
  {
   "cell_type": "markdown",
   "metadata": {
    "application/vnd.databricks.v1+cell": {
     "cellMetadata": {
      "byteLimit": 2048000,
      "rowLimit": 10000
     },
     "inputWidgets": {},
     "nuid": "4a3852be-5644-4398-8cd4-4b21383d2e74",
     "showTitle": false,
     "tableResultSettingsMap": {},
     "title": ""
    }
   },
   "source": [
    "## using a 16Gb driver node, plus 2-4 16Gb workers"
   ]
  },
  {
   "cell_type": "code",
   "execution_count": 0,
   "metadata": {
    "application/vnd.databricks.v1+cell": {
     "cellMetadata": {
      "byteLimit": 2048000,
      "rowLimit": 10000
     },
     "inputWidgets": {},
     "nuid": "de134d61-a35a-412d-a76e-81b0614afa15",
     "showTitle": true,
     "tableResultSettingsMap": {},
     "title": "reading csv into a Spark dataframe"
    }
   },
   "outputs": [],
   "source": [
    "csv_file_path = \"/Volumes/main/ogden_misc/tpch_vol/tpch_orders.csv/part-00000-tid-1125381385303881821-c8f55892-e52a-4437-bbd8-3b3fe1a378fd-5-1-c000.csv\"\n",
    "\n",
    "# Read the CSV file into a Spark DataFrame\n",
    "spark_df = spark.read.csv(csv_file_path, header=True, inferSchema=True)\n",
    "\n",
    "# Display the DataFrame\n",
    "display(spark_df)"
   ]
  },
  {
   "cell_type": "code",
   "execution_count": 0,
   "metadata": {
    "application/vnd.databricks.v1+cell": {
     "cellMetadata": {
      "byteLimit": 2048000,
      "rowLimit": 10000
     },
     "inputWidgets": {},
     "nuid": "fb5ae394-4352-445b-bb2a-32e273e3a13b",
     "showTitle": true,
     "tableResultSettingsMap": {},
     "title": "ERROR expected -- we can't use Pandas methods on a Spark dataframe"
    }
   },
   "outputs": [],
   "source": [
    "spark_df.isnull().sum()"
   ]
  },
  {
   "cell_type": "markdown",
   "metadata": {
    "application/vnd.databricks.v1+cell": {
     "cellMetadata": {},
     "inputWidgets": {},
     "nuid": "24745f62-67a1-43ff-b63b-296b3ab5152e",
     "showTitle": false,
     "tableResultSettingsMap": {},
     "title": ""
    }
   },
   "source": [
    "# Discussion:\n",
    "> ## Why did the above step fail, and what should we do about it?"
   ]
  },
  {
   "cell_type": "code",
   "execution_count": 0,
   "metadata": {
    "application/vnd.databricks.v1+cell": {
     "cellMetadata": {
      "byteLimit": 2048000,
      "rowLimit": 10000
     },
     "inputWidgets": {},
     "nuid": "c1aa5f68-ed18-4c8a-bb11-8f2d1141f591",
     "showTitle": true,
     "tableResultSettingsMap": {},
     "title": "recoding above Pandas methods into Spark functions"
    }
   },
   "outputs": [],
   "source": [
    "from pyspark.sql.functions import col, count, when\n",
    "\n",
    "col_null_cnt_df =  spark_df.select([count(when(col(c).isNull(),c)).alias(c) for c in spark_df.columns])\n",
    "\n",
    "display(col_null_cnt_df)"
   ]
  },
  {
   "cell_type": "markdown",
   "metadata": {
    "application/vnd.databricks.v1+cell": {
     "cellMetadata": {},
     "inputWidgets": {},
     "nuid": "b5d46b59-30d3-4074-ac06-319f1a24653d",
     "showTitle": false,
     "tableResultSettingsMap": {},
     "title": ""
    }
   },
   "source": [
    "# Discussion:\n",
    "> ## functions on distributed data = multiple machines needing to pass info back and forth"
   ]
  },
  {
   "cell_type": "markdown",
   "metadata": {
    "application/vnd.databricks.v1+cell": {
     "cellMetadata": {
      "byteLimit": 2048000,
      "rowLimit": 10000
     },
     "inputWidgets": {},
     "nuid": "7c903ced-ce60-41b8-8be7-f0dd76490914",
     "showTitle": false,
     "tableResultSettingsMap": {},
     "title": ""
    }
   },
   "source": []
  }
 ],
 "metadata": {
  "application/vnd.databricks.v1+notebook": {
   "computePreferences": null,
   "dashboards": [],
   "environmentMetadata": {
    "base_environment": "",
    "environment_version": "2"
   },
   "language": "python",
   "notebookMetadata": {
    "pythonIndentUnit": 2
   },
   "notebookName": "read csv - spark",
   "widgets": {}
  },
  "language_info": {
   "name": "python"
  }
 },
 "nbformat": 4,
 "nbformat_minor": 0
}
