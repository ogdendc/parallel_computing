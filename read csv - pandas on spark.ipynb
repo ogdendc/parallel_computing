{
 "cells": [
  {
   "cell_type": "markdown",
   "metadata": {
    "application/vnd.databricks.v1+cell": {
     "cellMetadata": {
      "byteLimit": 2048000,
      "rowLimit": 10000
     },
     "inputWidgets": {},
     "nuid": "4a3852be-5644-4398-8cd4-4b21383d2e74",
     "showTitle": false,
     "tableResultSettingsMap": {},
     "title": ""
    }
   },
   "source": [
    "## using a 16Gb driver node, plus 2-4 16Gb workers"
   ]
  },
  {
   "cell_type": "code",
   "execution_count": 0,
   "metadata": {
    "application/vnd.databricks.v1+cell": {
     "cellMetadata": {
      "byteLimit": 2048000,
      "rowLimit": 10000
     },
     "inputWidgets": {},
     "nuid": "c30109d4-d6be-46ac-8577-9be569edfd77",
     "showTitle": false,
     "tableResultSettingsMap": {},
     "title": ""
    }
   },
   "outputs": [],
   "source": [
    "# for reference:  https://spark.apache.org/docs/latest/api/python/user_guide/pandas_on_spark/pandas_pyspark.html\n",
    "\n",
    "#pandas_on_spark_df = spark_df.pandas_api()"
   ]
  },
  {
   "cell_type": "code",
   "execution_count": 0,
   "metadata": {
    "application/vnd.databricks.v1+cell": {
     "cellMetadata": {
      "byteLimit": 2048000,
      "rowLimit": 10000
     },
     "inputWidgets": {},
     "nuid": "2f3d06dd-12a1-4fde-bfac-c59813d93bd1",
     "showTitle": true,
     "tableResultSettingsMap": {},
     "title": "reading csv into a Pandas-on-Spark dataframe"
    }
   },
   "outputs": [],
   "source": [
    "csv_file_path = \"/Volumes/main/ogden_misc/tpch_vol/tpch_orders.csv/part-00000-tid-1125381385303881821-c8f55892-e52a-4437-bbd8-3b3fe1a378fd-5-1-c000.csv\"\n",
    "\n",
    "# Read the CSV file into a Spark DataFrame\n",
    "pandas_on_spark_df = spark.read.csv(csv_file_path, header=True, inferSchema=True).pandas_api()\n",
    "\n",
    "# Display the DataFrame\n",
    "display(pandas_on_spark_df)"
   ]
  },
  {
   "cell_type": "code",
   "execution_count": 0,
   "metadata": {
    "application/vnd.databricks.v1+cell": {
     "cellMetadata": {
      "byteLimit": 2048000,
      "rowLimit": 10000
     },
     "inputWidgets": {},
     "nuid": "6a0efb24-fdb0-43d6-b508-757d869af5d9",
     "showTitle": true,
     "tableResultSettingsMap": {},
     "title": "now we can use (distributed) Pandas functions"
    }
   },
   "outputs": [],
   "source": [
    "pandas_on_spark_df.isnull().sum()"
   ]
  },
  {
   "cell_type": "markdown",
   "metadata": {
    "application/vnd.databricks.v1+cell": {
     "cellMetadata": {},
     "inputWidgets": {},
     "nuid": "09f5ef11-9970-4d41-8025-b75ac0076a52",
     "showTitle": false,
     "tableResultSettingsMap": {},
     "title": ""
    }
   },
   "source": [
    "# Discussion:\n",
    "> ## The Pandas-on-Spark API allows you to distribute a pandas-like dataframe\n",
    ">>> ## and use Pandas functions on that dataframe.\n",
    "> ## Not all Pandas functions are covered by the Pandas-on-Spark API.\n",
    "> ## Consider this approach as a temporary stop-gap \n",
    ">>> ## to continue using your existing Pandas code\n",
    ">>> ## until you have the time to recode into Spark, sans Pandas."
   ]
  },
  {
   "cell_type": "markdown",
   "metadata": {
    "application/vnd.databricks.v1+cell": {
     "cellMetadata": {
      "byteLimit": 2048000,
      "rowLimit": 10000
     },
     "inputWidgets": {},
     "nuid": "7c903ced-ce60-41b8-8be7-f0dd76490914",
     "showTitle": false,
     "tableResultSettingsMap": {},
     "title": ""
    }
   },
   "source": []
  }
 ],
 "metadata": {
  "application/vnd.databricks.v1+notebook": {
   "computePreferences": null,
   "dashboards": [],
   "environmentMetadata": {
    "base_environment": "",
    "environment_version": "2"
   },
   "language": "python",
   "notebookMetadata": {
    "pythonIndentUnit": 2
   },
   "notebookName": "read csv - pandas on spark",
   "widgets": {}
  },
  "language_info": {
   "name": "python"
  }
 },
 "nbformat": 4,
 "nbformat_minor": 0
}
